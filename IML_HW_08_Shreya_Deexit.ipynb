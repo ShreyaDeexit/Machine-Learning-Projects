{
  "nbformat": 4,
  "nbformat_minor": 0,
  "metadata": {
    "colab": {
      "provenance": []
    },
    "kernelspec": {
      "name": "python3",
      "display_name": "Python 3"
    },
    "language_info": {
      "name": "python"
    }
  },
  "cells": [
    {
      "cell_type": "code",
      "execution_count": 68,
      "metadata": {
        "id": "8sI7EtKFJDYg"
      },
      "outputs": [],
      "source": [
        "import pandas as pd\n",
        "from sklearn.model_selection import train_test_split\n",
        "from sklearn.ensemble import AdaBoostClassifier\n",
        "from sklearn.tree import DecisionTreeClassifier\n",
        "from sklearn.metrics import accuracy_score, classification_report\n",
        "import numpy as np\n",
        "from sklearn.preprocessing import MinMaxScaler"
      ]
    },
    {
      "cell_type": "code",
      "source": [
        "df = pd.read_csv('/content/81-90.csv')"
      ],
      "metadata": {
        "id": "geHv99-oU7az"
      },
      "execution_count": 69,
      "outputs": []
    },
    {
      "cell_type": "code",
      "source": [
        "df['ratio'] = np.where(df['cit_2021'] == 0, 0, df['cit_2022'] / df['cit_2021'])\n",
        "df['ratio'] = round(df['ratio'], 2)\n",
        "# Assign categories based on the ratio\n",
        "conditions = [\n",
        "    df['ratio'] <= 1.05,\n",
        "    (df['ratio'] >= 1.06) & (df['ratio'] <= 1.15),\n",
        "    df['ratio'] > 1.15\n",
        "]\n",
        "choices = ['Low', 'Medium', 'High']\n",
        "df['category'] = np.select(conditions, choices, default='Other')"
      ],
      "metadata": {
        "id": "SwQ6X8wuU-5w"
      },
      "execution_count": 70,
      "outputs": []
    },
    {
      "cell_type": "code",
      "source": [
        "print(df)"
      ],
      "metadata": {
        "colab": {
          "base_uri": "https://localhost:8080/"
        },
        "id": "DWft8Gn_VKMN",
        "outputId": "89c75c90-f667-4686-958b-804af883d420"
      },
      "execution_count": 71,
      "outputs": [
        {
          "output_type": "stream",
          "name": "stdout",
          "text": [
            "    univ_rank first_initial last_initial  cit_2017  cit_2018  cit_2019  \\\n",
            "0          81             S            G       363       333       350   \n",
            "1          81             A            S       329       244       266   \n",
            "2          81             B            A         4        20        48   \n",
            "3          81             J            H       298       279       303   \n",
            "4          81             P            J       608       660       648   \n",
            "..        ...           ...          ...       ...       ...       ...   \n",
            "95         90             A            A      1126      1474      1316   \n",
            "96         90             J            B       113       186       167   \n",
            "97         90             W            D         0         7         6   \n",
            "98         90             A            K       142       242       254   \n",
            "99         90             D            L         0         0        10   \n",
            "\n",
            "    cit_2020  cit_2021  cit_2022  h_index  i_10_index  ratio category  \n",
            "0        345       302       298       35          74   0.99      Low  \n",
            "1        363       373       315       28          59   0.84      Low  \n",
            "2         87       166       278       13          13   1.67     High  \n",
            "3        254       280       302       32          64   1.08   Medium  \n",
            "4        501       487       446       46          97   0.92      Low  \n",
            "..       ...       ...       ...      ...         ...    ...      ...  \n",
            "95      1091       980       932       32          65   0.95      Low  \n",
            "96       111       132        98       16          19   0.74      Low  \n",
            "97        22        48        56        7           7   1.17     High  \n",
            "98       221       233       272       13          13   1.17     High  \n",
            "99        56       122       338       11          13   2.77     High  \n",
            "\n",
            "[100 rows x 13 columns]\n"
          ]
        }
      ]
    },
    {
      "cell_type": "code",
      "source": [
        "X = df[['cit_2017', 'cit_2018', 'cit_2019', 'cit_2020', 'cit_2021', 'cit_2022']]\n",
        "\n",
        "scaler = MinMaxScaler();\n",
        "X = scaler.fit_transform(X)\n",
        "category_mapping = {'Low': 0, 'Medium': 1, 'High': 2}\n",
        "df['category_encoded'] = df['category'].map(category_mapping)\n",
        "\n",
        "y = df['category_encoded']\n",
        "\n",
        "X_train, X_test, y_train, y_test = train_test_split(X, y, test_size=0.2, random_state=42)\n"
      ],
      "metadata": {
        "id": "2qCYGqG6VLKw"
      },
      "execution_count": 72,
      "outputs": []
    },
    {
      "cell_type": "code",
      "source": [
        "base_classifier = DecisionTreeClassifier(max_depth=1)\n",
        "\n",
        "# Define the AdaBoost model\n",
        "adaboost_model = AdaBoostClassifier(base_classifier, n_estimators=50, learning_rate=0.01, random_state=42)\n",
        "\n",
        "# Train the model\n",
        "adaboost_model.fit(X_train, y_train)\n",
        "\n",
        "# Make predictions on the test set\n",
        "y_pred = adaboost_model.predict(X_test)\n",
        "\n",
        "# Evaluate the performance of the model\n",
        "accuracy = accuracy_score(y_test, y_pred)\n",
        "report = classification_report(y_test, y_pred)\n",
        "\n",
        "print(f\"Accuracy: {accuracy}\")\n",
        "print(\"Classification Report:\\n\", report)"
      ],
      "metadata": {
        "colab": {
          "base_uri": "https://localhost:8080/"
        },
        "id": "Y7GlKZufXM5l",
        "outputId": "860eb970-01d9-4c89-9297-b7012039ab3b"
      },
      "execution_count": 73,
      "outputs": [
        {
          "output_type": "stream",
          "name": "stdout",
          "text": [
            "Accuracy: 0.75\n",
            "Classification Report:\n",
            "               precision    recall  f1-score   support\n",
            "\n",
            "           0       0.90      0.75      0.82        12\n",
            "           1       0.00      0.00      0.00         1\n",
            "           2       0.60      0.86      0.71         7\n",
            "\n",
            "    accuracy                           0.75        20\n",
            "   macro avg       0.50      0.54      0.51        20\n",
            "weighted avg       0.75      0.75      0.74        20\n",
            "\n"
          ]
        },
        {
          "output_type": "stream",
          "name": "stderr",
          "text": [
            "/usr/local/lib/python3.10/dist-packages/sklearn/metrics/_classification.py:1344: UndefinedMetricWarning: Precision and F-score are ill-defined and being set to 0.0 in labels with no predicted samples. Use `zero_division` parameter to control this behavior.\n",
            "  _warn_prf(average, modifier, msg_start, len(result))\n",
            "/usr/local/lib/python3.10/dist-packages/sklearn/metrics/_classification.py:1344: UndefinedMetricWarning: Precision and F-score are ill-defined and being set to 0.0 in labels with no predicted samples. Use `zero_division` parameter to control this behavior.\n",
            "  _warn_prf(average, modifier, msg_start, len(result))\n",
            "/usr/local/lib/python3.10/dist-packages/sklearn/metrics/_classification.py:1344: UndefinedMetricWarning: Precision and F-score are ill-defined and being set to 0.0 in labels with no predicted samples. Use `zero_division` parameter to control this behavior.\n",
            "  _warn_prf(average, modifier, msg_start, len(result))\n"
          ]
        }
      ]
    },
    {
      "cell_type": "code",
      "source": [
        "import matplotlib.pyplot as plt\n",
        "from sklearn.metrics import confusion_matrix\n",
        "import seaborn as sns\n",
        "\n",
        "# Assuming you have the confusion matrix already computed\n",
        "conf_matrix_adaboost = confusion_matrix(y_test, y_pred)\n",
        "\n",
        "# Plotting the confusion matrix using seaborn\n",
        "plt.figure(figsize=(8, 6))\n",
        "sns.heatmap(conf_matrix_adaboost, annot=True, fmt='d', cmap='Blues', cbar=False,\n",
        "            xticklabels=['Low', 'Medium','High'],\n",
        "            yticklabels=['Low', 'Medium','High'])\n",
        "plt.title('Confusion Matrix - Adaboost')\n",
        "plt.xlabel('Predicted Label')\n",
        "plt.ylabel('True Label')\n",
        "plt.show()\n",
        "\n",
        "\n"
      ],
      "metadata": {
        "colab": {
          "base_uri": "https://localhost:8080/",
          "height": 564
        },
        "id": "QuEvYowgvgFE",
        "outputId": "7238e7fb-f755-4022-a349-90bc5faac6da"
      },
      "execution_count": 74,
      "outputs": [
        {
          "output_type": "display_data",
          "data": {
            "text/plain": [
              "<Figure size 800x600 with 1 Axes>"
            ],
            "image/png": "[encoded data removed]"
          },
          "metadata": {}
        }
      ]
    }
  ]
}