{
  "nbformat": 4,
  "nbformat_minor": 0,
  "metadata": {
    "colab": {
      "provenance": []
    },
    "kernelspec": {
      "name": "python3",
      "display_name": "Python 3"
    },
    "language_info": {
      "name": "python"
    }
  },
  "cells": [
    {
      "cell_type": "code",
      "execution_count": 62,
      "metadata": {
        "id": "_DK8qbTEN8BD"
      },
      "outputs": [],
      "source": [
        "import pandas as pd\n",
        "import numpy as np"
      ]
    },
    {
      "cell_type": "code",
      "source": [
        "df = pd.read_csv('/content/81-90.csv')"
      ],
      "metadata": {
        "id": "Ynd60y04Od8Y"
      },
      "execution_count": 63,
      "outputs": []
    },
    {
      "cell_type": "code",
      "source": [
        "df['ratio'] = np.where(df['cit_2021'] == 0, 0, df['cit_2022'] / df['cit_2021'])\n",
        "df['ratio'] = round(df['ratio'], 2)\n",
        "# Assign categories based on the ratio\n",
        "conditions = [\n",
        "    df['ratio'] <= 1.05,\n",
        "    (df['ratio'] >= 1.06) & (df['ratio'] <= 1.15),\n",
        "    df['ratio'] > 1.15\n",
        "]\n",
        "choices = ['Low', 'Medium', 'High']\n",
        "df['category'] = np.select(conditions, choices, default='Other')\n",
        "\n",
        "# View the updated DataFrame\n",
        "print(df[['univ_rank', 'first_initial', 'last_initial', 'ratio', 'category']])"
      ],
      "metadata": {
        "colab": {
          "base_uri": "https://localhost:8080/"
        },
        "id": "lVXE9BhvOnFJ",
        "outputId": "8c1de0de-8ef5-4af1-b5bc-df4802807ae5"
      },
      "execution_count": 64,
      "outputs": [
        {
          "output_type": "stream",
          "name": "stdout",
          "text": [
            "    univ_rank first_initial last_initial  ratio category\n",
            "0          81             S            G   0.99      Low\n",
            "1          81             A            S   0.84      Low\n",
            "2          81             B            A   1.67     High\n",
            "3          81             J            H   1.08   Medium\n",
            "4          81             P            J   0.92      Low\n",
            "..        ...           ...          ...    ...      ...\n",
            "95         90             A            A   0.95      Low\n",
            "96         90             J            B   0.74      Low\n",
            "97         90             W            D   1.17     High\n",
            "98         90             A            K   1.17     High\n",
            "99         90             D            L   2.77     High\n",
            "\n",
            "[100 rows x 5 columns]\n"
          ]
        }
      ]
    },
    {
      "cell_type": "code",
      "source": [
        "from sklearn.model_selection import train_test_split\n",
        "from sklearn.preprocessing import MinMaxScaler, LabelEncoder\n",
        "\n",
        "# Normalize the citation data from 2017 to 2022 using Min-Max scaling\n",
        "scaler = MinMaxScaler()\n",
        "df[['cit_2017', 'cit_2018', 'cit_2019', 'cit_2020', 'cit_2021', 'cit_2022']] = scaler.fit_transform(df[['cit_2017', 'cit_2018', 'cit_2019', 'cit_2020', 'cit_2021', 'cit_2022']])\n",
        "\n",
        "# Convert categories to numerical values (Low: 0, Medium: 1, High: 2)\n",
        "category_mapping = {'Low': 0, 'Medium': 1, 'High': 2}\n",
        "df['category_encoded'] = df['category'].map(category_mapping)\n",
        "print(df)\n",
        "# Split the data into training and test datasets (80% train, 20% test)\n",
        "X = df[['cit_2017', 'cit_2018', 'cit_2019', 'cit_2020', 'cit_2021', 'cit_2022']]\n",
        "y = df['category_encoded']\n",
        "\n",
        "X_train, X_test, y_train, y_test = train_test_split(X, y, test_size=0.2, random_state=42)\n",
        "\n",
        "print(\"Training data size:\", X_train.shape)\n",
        "print(\"Test data size:\", X_test.shape)\n"
      ],
      "metadata": {
        "colab": {
          "base_uri": "https://localhost:8080/"
        },
        "id": "zVozGvkTPjIk",
        "outputId": "f0dccbcb-dbf5-40c8-e461-1208fad45f31"
      },
      "execution_count": 65,
      "outputs": [
        {
          "output_type": "stream",
          "name": "stdout",
          "text": [
            "    univ_rank first_initial last_initial  cit_2017  cit_2018  cit_2019  \\\n",
            "0          81             S            G  0.322380  0.225916  0.263554   \n",
            "1          81             A            S  0.292185  0.165536  0.200301   \n",
            "2          81             B            A  0.003552  0.013569  0.036145   \n",
            "3          81             J            H  0.264654  0.189281  0.228163   \n",
            "4          81             P            J  0.539964  0.447761  0.487952   \n",
            "..        ...           ...          ...       ...       ...       ...   \n",
            "95         90             A            A  1.000000  1.000000  0.990964   \n",
            "96         90             J            B  0.100355  0.126187  0.125753   \n",
            "97         90             W            D  0.000000  0.004749  0.004518   \n",
            "98         90             A            K  0.126110  0.164179  0.191265   \n",
            "99         90             D            L  0.000000  0.000000  0.007530   \n",
            "\n",
            "    cit_2020  cit_2021  cit_2022  h_index  i_10_index  ratio category  \\\n",
            "0   0.260703  0.190445  0.174301       35          74   0.99      Low   \n",
            "1   0.274465  0.236281  0.184414       28          59   0.84      Low   \n",
            "2   0.063456  0.102647  0.162403       13          13   1.67     High   \n",
            "3   0.191131  0.176243  0.176681       32          64   1.08   Medium   \n",
            "4   0.379969  0.309877  0.262344       46          97   0.92      Low   \n",
            "..       ...       ...       ...      ...         ...    ...      ...   \n",
            "95  0.831040  0.628147  0.551457       32          65   0.95      Low   \n",
            "96  0.081804  0.080697  0.055324       16          19   0.74      Low   \n",
            "97  0.013761  0.026469  0.030339        7           7   1.17     High   \n",
            "98  0.165902  0.145901  0.158834       13          13   1.17     High   \n",
            "99  0.039755  0.074241  0.198096       11          13   2.77     High   \n",
            "\n",
            "    category_encoded  \n",
            "0                  0  \n",
            "1                  0  \n",
            "2                  2  \n",
            "3                  1  \n",
            "4                  0  \n",
            "..               ...  \n",
            "95                 0  \n",
            "96                 0  \n",
            "97                 2  \n",
            "98                 2  \n",
            "99                 2  \n",
            "\n",
            "[100 rows x 14 columns]\n",
            "Training data size: (80, 6)\n",
            "Test data size: (20, 6)\n"
          ]
        }
      ]
    },
    {
      "cell_type": "code",
      "source": [
        "import tensorflow as tf\n",
        "from tensorflow.keras import Sequential\n",
        "from tensorflow.keras.layers import Dense\n",
        "from tensorflow.keras.utils import to_categorical\n",
        "\n",
        "# Convert the target data to categorical (one-hot encoding) with explicitly 3 classes\n",
        "y_train_cat = to_categorical(y_train)\n",
        "y_test_cat = to_categorical(y_test)\n",
        "\n",
        "# Build the neural network\n",
        "model = Sequential([\n",
        "    Dense(6, input_dim=6, activation='relu'),  # Input layer\n",
        "    Dense(6, activation='relu'),               # Hidden layer\n",
        "    Dense(3, activation='softmax')             # Output layer\n",
        "])\n",
        "\n",
        "# Compile the model\n",
        "model.compile(loss='categorical_crossentropy', optimizer='adam', metrics=['accuracy'])\n",
        "\n",
        "# Train the model on the training data\n",
        "model.fit(X_train, y_train_cat, epochs=50, batch_size=10)\n",
        "\n",
        "# Evaluate the model's accuracy on the test data\n",
        "loss, accuracy = model.evaluate(X_test, y_test_cat)\n",
        "print(\"Test Accuracy: {:.2f}%\".format(accuracy * 100))\n",
        "\n"
      ],
      "metadata": {
        "colab": {
          "base_uri": "https://localhost:8080/"
        },
        "id": "O0oT7YbwPn2q",
        "outputId": "8cb80ee5-3138-4189-d2f1-7d8b47d37b99"
      },
      "execution_count": 66,
      "outputs": [
        {
          "output_type": "stream",
          "name": "stdout",
          "text": [
            "Epoch 1/50\n",
            "8/8 [==============================] - 1s 3ms/step - loss: 1.0921 - accuracy: 0.4000\n",
            "Epoch 2/50\n",
            "8/8 [==============================] - 0s 2ms/step - loss: 1.0852 - accuracy: 0.5250\n",
            "Epoch 3/50\n",
            "8/8 [==============================] - 0s 2ms/step - loss: 1.0780 - accuracy: 0.5125\n",
            "Epoch 4/50\n",
            "8/8 [==============================] - 0s 2ms/step - loss: 1.0726 - accuracy: 0.5125\n",
            "Epoch 5/50\n",
            "8/8 [==============================] - 0s 2ms/step - loss: 1.0657 - accuracy: 0.4875\n",
            "Epoch 6/50\n",
            "8/8 [==============================] - 0s 2ms/step - loss: 1.0587 - accuracy: 0.5125\n",
            "Epoch 7/50\n",
            "8/8 [==============================] - 0s 2ms/step - loss: 1.0513 - accuracy: 0.5000\n",
            "Epoch 8/50\n",
            "8/8 [==============================] - 0s 2ms/step - loss: 1.0419 - accuracy: 0.5375\n",
            "Epoch 9/50\n",
            "8/8 [==============================] - 0s 3ms/step - loss: 1.0273 - accuracy: 0.6000\n",
            "Epoch 10/50\n",
            "8/8 [==============================] - 0s 2ms/step - loss: 1.0127 - accuracy: 0.5875\n",
            "Epoch 11/50\n",
            "8/8 [==============================] - 0s 2ms/step - loss: 1.0010 - accuracy: 0.5875\n",
            "Epoch 12/50\n",
            "8/8 [==============================] - 0s 2ms/step - loss: 0.9904 - accuracy: 0.5750\n",
            "Epoch 13/50\n",
            "8/8 [==============================] - 0s 2ms/step - loss: 0.9804 - accuracy: 0.5625\n",
            "Epoch 14/50\n",
            "8/8 [==============================] - 0s 2ms/step - loss: 0.9724 - accuracy: 0.5500\n",
            "Epoch 15/50\n",
            "8/8 [==============================] - 0s 2ms/step - loss: 0.9656 - accuracy: 0.5500\n",
            "Epoch 16/50\n",
            "8/8 [==============================] - 0s 2ms/step - loss: 0.9583 - accuracy: 0.5500\n",
            "Epoch 17/50\n",
            "8/8 [==============================] - 0s 3ms/step - loss: 0.9517 - accuracy: 0.5500\n",
            "Epoch 18/50\n",
            "8/8 [==============================] - 0s 2ms/step - loss: 0.9467 - accuracy: 0.5625\n",
            "Epoch 19/50\n",
            "8/8 [==============================] - 0s 2ms/step - loss: 0.9427 - accuracy: 0.5625\n",
            "Epoch 20/50\n",
            "8/8 [==============================] - 0s 2ms/step - loss: 0.9390 - accuracy: 0.5625\n",
            "Epoch 21/50\n",
            "8/8 [==============================] - 0s 2ms/step - loss: 0.9359 - accuracy: 0.5625\n",
            "Epoch 22/50\n",
            "8/8 [==============================] - 0s 3ms/step - loss: 0.9326 - accuracy: 0.5625\n",
            "Epoch 23/50\n",
            "8/8 [==============================] - 0s 2ms/step - loss: 0.9294 - accuracy: 0.5750\n",
            "Epoch 24/50\n",
            "8/8 [==============================] - 0s 2ms/step - loss: 0.9261 - accuracy: 0.5750\n",
            "Epoch 25/50\n",
            "8/8 [==============================] - 0s 2ms/step - loss: 0.9242 - accuracy: 0.5750\n",
            "Epoch 26/50\n",
            "8/8 [==============================] - 0s 2ms/step - loss: 0.9205 - accuracy: 0.5875\n",
            "Epoch 27/50\n",
            "8/8 [==============================] - 0s 2ms/step - loss: 0.9167 - accuracy: 0.5875\n",
            "Epoch 28/50\n",
            "8/8 [==============================] - 0s 2ms/step - loss: 0.9138 - accuracy: 0.5875\n",
            "Epoch 29/50\n",
            "8/8 [==============================] - 0s 2ms/step - loss: 0.9107 - accuracy: 0.5875\n",
            "Epoch 30/50\n",
            "8/8 [==============================] - 0s 2ms/step - loss: 0.9072 - accuracy: 0.5875\n",
            "Epoch 31/50\n",
            "8/8 [==============================] - 0s 2ms/step - loss: 0.9039 - accuracy: 0.5875\n",
            "Epoch 32/50\n",
            "8/8 [==============================] - 0s 2ms/step - loss: 0.9001 - accuracy: 0.5875\n",
            "Epoch 33/50\n",
            "8/8 [==============================] - 0s 2ms/step - loss: 0.8966 - accuracy: 0.5875\n",
            "Epoch 34/50\n",
            "8/8 [==============================] - 0s 2ms/step - loss: 0.8924 - accuracy: 0.5875\n",
            "Epoch 35/50\n",
            "8/8 [==============================] - 0s 3ms/step - loss: 0.8893 - accuracy: 0.5875\n",
            "Epoch 36/50\n",
            "8/8 [==============================] - 0s 2ms/step - loss: 0.8864 - accuracy: 0.5875\n",
            "Epoch 37/50\n",
            "8/8 [==============================] - 0s 2ms/step - loss: 0.8839 - accuracy: 0.6000\n",
            "Epoch 38/50\n",
            "8/8 [==============================] - 0s 2ms/step - loss: 0.8798 - accuracy: 0.6000\n",
            "Epoch 39/50\n",
            "8/8 [==============================] - 0s 2ms/step - loss: 0.8776 - accuracy: 0.6125\n",
            "Epoch 40/50\n",
            "8/8 [==============================] - 0s 2ms/step - loss: 0.8744 - accuracy: 0.6125\n",
            "Epoch 41/50\n",
            "8/8 [==============================] - 0s 3ms/step - loss: 0.8714 - accuracy: 0.6125\n",
            "Epoch 42/50\n",
            "8/8 [==============================] - 0s 3ms/step - loss: 0.8682 - accuracy: 0.6125\n",
            "Epoch 43/50\n",
            "8/8 [==============================] - 0s 3ms/step - loss: 0.8650 - accuracy: 0.6250\n",
            "Epoch 44/50\n",
            "8/8 [==============================] - 0s 3ms/step - loss: 0.8625 - accuracy: 0.6250\n",
            "Epoch 45/50\n",
            "8/8 [==============================] - 0s 2ms/step - loss: 0.8592 - accuracy: 0.6250\n",
            "Epoch 46/50\n",
            "8/8 [==============================] - 0s 2ms/step - loss: 0.8560 - accuracy: 0.6500\n",
            "Epoch 47/50\n",
            "8/8 [==============================] - 0s 2ms/step - loss: 0.8544 - accuracy: 0.6625\n",
            "Epoch 48/50\n",
            "8/8 [==============================] - 0s 2ms/step - loss: 0.8506 - accuracy: 0.6625\n",
            "Epoch 49/50\n",
            "8/8 [==============================] - 0s 2ms/step - loss: 0.8489 - accuracy: 0.6625\n",
            "Epoch 50/50\n",
            "8/8 [==============================] - 0s 2ms/step - loss: 0.8454 - accuracy: 0.6375\n",
            "1/1 [==============================] - 0s 136ms/step - loss: 0.6694 - accuracy: 0.8000\n",
            "Test Accuracy: 80.00%\n"
          ]
        }
      ]
    },
    {
      "cell_type": "code",
      "source": [
        "import matplotlib.pyplot as plt\n",
        "from sklearn.metrics import confusion_matrix\n",
        "import seaborn as sns\n",
        "\n",
        "# 1. Predict the categories for the test set\n",
        "y_pred = model.predict(X_test)\n",
        "y_pred_labels = np.argmax(y_pred, axis=1)\n",
        "\n",
        "# 2. Convert one-hot encoded true labels back to their original form\n",
        "y_true_labels = np.argmax(y_test_cat, axis=1)\n",
        "\n",
        "# 3. Compute the confusion matrix\n",
        "cm = confusion_matrix(y_true_labels, y_pred_labels)\n",
        "\n",
        "# 4. Plot the confusion matrix using seaborn's heatmap function\n",
        "plt.figure(figsize=(10,7))\n",
        "sns.heatmap(cm, annot=True, fmt='g', cmap='Blues',\n",
        "            xticklabels=['Low', 'Medium', 'High'],\n",
        "            yticklabels=['Low', 'Medium', 'High'])\n",
        "plt.xlabel('Predicted labels')\n",
        "plt.ylabel('True labels')\n",
        "plt.title('Confusion Matrix for Test Set')\n",
        "plt.show()\n"
      ],
      "metadata": {
        "colab": {
          "base_uri": "https://localhost:8080/",
          "height": 697
        },
        "id": "iXch1VChVM1V",
        "outputId": "c9c71b3b-9e13-4582-c780-adce3931dba1"
      },
      "execution_count": 67,
      "outputs": [
        {
          "output_type": "stream",
          "name": "stderr",
          "text": [
            "WARNING:tensorflow:5 out of the last 5 calls to <function Model.make_predict_function.<locals>.predict_function at 0x793838a85480> triggered tf.function retracing. Tracing is expensive and the excessive number of tracings could be due to (1) creating @tf.function repeatedly in a loop, (2) passing tensors with different shapes, (3) passing Python objects instead of tensors. For (1), please define your @tf.function outside of the loop. For (2), @tf.function has reduce_retracing=True option that can avoid unnecessary retracing. For (3), please refer to https://www.tensorflow.org/guide/function#controlling_retracing and https://www.tensorflow.org/api_docs/python/tf/function for  more details.\n"
          ]
        },
        {
          "output_type": "stream",
          "name": "stdout",
          "text": [
            "1/1 [==============================] - 0s 58ms/step\n"
          ]
        },
        {
          "output_type": "display_data",
          "data": {
            "text/plain": [
              "<Figure size 1000x700 with 2 Axes>"
            ],
            "image/png": "[encoded data removed]"
          },
          "metadata": {}
        }
      ]
    }
  ]
}