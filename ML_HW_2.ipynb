{
  "nbformat": 4,
  "nbformat_minor": 0,
  "metadata": {
    "colab": {
      "provenance": []
    },
    "kernelspec": {
      "name": "python3",
      "display_name": "Python 3"
    },
    "language_info": {
      "name": "python"
    }
  },
  "cells": [
    {
      "cell_type": "code",
      "execution_count": 1,
      "metadata": {
        "id": "OgicUF9dpdb_"
      },
      "outputs": [],
      "source": [
        "import pandas as pd\n",
        "import numpy as np"
      ]
    },
    {
      "cell_type": "code",
      "source": [
        "df = pd.read_csv('/content/81-90.csv')"
      ],
      "metadata": {
        "id": "1Jw1fRlkpkDu"
      },
      "execution_count": 2,
      "outputs": []
    },
    {
      "cell_type": "code",
      "source": [
        "import pandas as pd\n",
        "from sklearn.decomposition import PCA\n",
        "from sklearn.linear_model import LinearRegression\n",
        "from sklearn.model_selection import train_test_split\n",
        "from sklearn.preprocessing import StandardScaler\n",
        "from sklearn.metrics import mean_absolute_error"
      ],
      "metadata": {
        "id": "Rr3oElC5pkMh"
      },
      "execution_count": 3,
      "outputs": []
    },
    {
      "cell_type": "code",
      "source": [
        "X = df[['univ_rank', 'cit_2017', 'cit_2018', 'cit_2019', 'cit_2020', 'cit_2021']]\n",
        "\n",
        "# Extract the target variable (citation numbers for 2022)\n",
        "y = df['cit_2022']"
      ],
      "metadata": {
        "id": "wTDGYqU0pkT7"
      },
      "execution_count": 4,
      "outputs": []
    },
    {
      "cell_type": "markdown",
      "source": [
        "####Without dimentionality reduction and using StandardScalar library"
      ],
      "metadata": {
        "id": "MEh4MvPGyfjM"
      }
    },
    {
      "cell_type": "code",
      "source": [
        "scalar = StandardScaler()"
      ],
      "metadata": {
        "id": "jnOJKxVSpkY7"
      },
      "execution_count": 5,
      "outputs": []
    },
    {
      "cell_type": "code",
      "source": [
        "Xscaled = scalar.fit_transform(X)\n",
        "X_train, X_test, y_train, y_test = train_test_split(Xscaled, y, test_size=0.2, random_state=42)\n"
      ],
      "metadata": {
        "id": "8-YpLRGTpkdr"
      },
      "execution_count": 6,
      "outputs": []
    },
    {
      "cell_type": "code",
      "source": [
        "Xscaled.shape"
      ],
      "metadata": {
        "colab": {
          "base_uri": "https://localhost:8080/"
        },
        "id": "ZcEclF3Rsmv4",
        "outputId": "63c238fe-99d3-4be3-d895-09d055f28823"
      },
      "execution_count": 7,
      "outputs": [
        {
          "output_type": "execute_result",
          "data": {
            "text/plain": [
              "(100, 6)"
            ]
          },
          "metadata": {},
          "execution_count": 7
        }
      ]
    },
    {
      "cell_type": "code",
      "source": [
        "# Initialize the linear regression model\n",
        "model = LinearRegression()\n",
        "\n",
        "# Fit the model on the training data\n",
        "model.fit(X_train, y_train)\n",
        "model.score(X_test,y_test)"
      ],
      "metadata": {
        "colab": {
          "base_uri": "https://localhost:8080/"
        },
        "id": "Bc1MrZ8HqRYI",
        "outputId": "8c9bfe82-637b-4d9d-f5c5-02d479931b5f"
      },
      "execution_count": 8,
      "outputs": [
        {
          "output_type": "execute_result",
          "data": {
            "text/plain": [
              "0.9106232859190013"
            ]
          },
          "metadata": {},
          "execution_count": 8
        }
      ]
    },
    {
      "cell_type": "code",
      "source": [
        "y_pred = model.predict(X_test)"
      ],
      "metadata": {
        "id": "UegUUm38t_ZG"
      },
      "execution_count": 9,
      "outputs": []
    },
    {
      "cell_type": "code",
      "source": [
        "mae = mean_absolute_error(y_test, y_pred)\n",
        "print(f\"Mean Absolute Error: {mae}\")"
      ],
      "metadata": {
        "colab": {
          "base_uri": "https://localhost:8080/"
        },
        "id": "Qp8gien-uF0r",
        "outputId": "071c00a4-af55-464c-bb15-ad6ee569b9d0"
      },
      "execution_count": 10,
      "outputs": [
        {
          "output_type": "stream",
          "name": "stdout",
          "text": [
            "Mean Absolute Error: 58.79006409807439\n"
          ]
        }
      ]
    },
    {
      "cell_type": "markdown",
      "source": [
        "####Using PCA dimentionality reduction\n",
        "#####Number of components = 5"
      ],
      "metadata": {
        "id": "EvbBVtUIr1-_"
      }
    },
    {
      "cell_type": "code",
      "source": [
        "pca = PCA(n_components=5)\n",
        "X_pca = pca.fit_transform(X)\n",
        "X_pca.shape"
      ],
      "metadata": {
        "colab": {
          "base_uri": "https://localhost:8080/"
        },
        "id": "yKzIlV24qlAI",
        "outputId": "a4ec8447-d9dd-4d8d-aa46-7f2c84b0a34c"
      },
      "execution_count": 11,
      "outputs": [
        {
          "output_type": "execute_result",
          "data": {
            "text/plain": [
              "(100, 5)"
            ]
          },
          "metadata": {},
          "execution_count": 11
        }
      ]
    },
    {
      "cell_type": "code",
      "source": [
        "pca.explained_variance_ratio_"
      ],
      "metadata": {
        "colab": {
          "base_uri": "https://localhost:8080/"
        },
        "id": "z96rhagiqrjq",
        "outputId": "eba81204-405a-419a-e7ce-92a6c27acab8"
      },
      "execution_count": 12,
      "outputs": [
        {
          "output_type": "execute_result",
          "data": {
            "text/plain": [
              "array([0.92424391, 0.06634077, 0.00481844, 0.00249632, 0.00207168])"
            ]
          },
          "metadata": {},
          "execution_count": 12
        }
      ]
    },
    {
      "cell_type": "code",
      "source": [
        "X_train_pca, X_test_pca, y_train_pca, y_test_pca = train_test_split(X_pca, y, test_size=0.2, random_state=42)"
      ],
      "metadata": {
        "id": "OJcPSsFUrCV_"
      },
      "execution_count": 13,
      "outputs": []
    },
    {
      "cell_type": "code",
      "source": [
        "# Initialize the linear regression model\n",
        "model_pca = LinearRegression()\n",
        "\n",
        "# Fit the model on the training data\n",
        "model_pca.fit(X_train_pca, y_train_pca)\n",
        "model_pca.score(X_test_pca,y_test_pca)"
      ],
      "metadata": {
        "colab": {
          "base_uri": "https://localhost:8080/"
        },
        "id": "UE0E7Ry1rMKv",
        "outputId": "86fa9a51-c760-4950-ea4d-5e70f17043fd"
      },
      "execution_count": 14,
      "outputs": [
        {
          "output_type": "execute_result",
          "data": {
            "text/plain": [
              "0.9111373278406364"
            ]
          },
          "metadata": {},
          "execution_count": 14
        }
      ]
    },
    {
      "cell_type": "code",
      "source": [
        "y_pred_pca = model_pca.predict(X_test_pca)"
      ],
      "metadata": {
        "id": "Gxhip_FArqEh"
      },
      "execution_count": 15,
      "outputs": []
    },
    {
      "cell_type": "code",
      "source": [
        "mae = mean_absolute_error(y_test_pca, y_pred_pca)\n",
        "print(f\"Mean Absolute Error: {mae}\")"
      ],
      "metadata": {
        "colab": {
          "base_uri": "https://localhost:8080/"
        },
        "id": "sLmJV4ymtzlC",
        "outputId": "4ab08125-3837-4d4b-998b-34b3530dd127"
      },
      "execution_count": 16,
      "outputs": [
        {
          "output_type": "stream",
          "name": "stdout",
          "text": [
            "Mean Absolute Error: 59.45041095742939\n"
          ]
        }
      ]
    },
    {
      "cell_type": "code",
      "source": [
        "# Transform the entire dataset with PCA\n",
        "X_full_pca = pca.transform(X)\n",
        "\n",
        "# Predict 2022 citation numbers for the entire dataset\n",
        "full_predictions = model_pca.predict(X_full_pca)\n",
        "\n",
        "print(\"Predicted values for 2022 citation\",full_predictions)\n"
      ],
      "metadata": {
        "colab": {
          "base_uri": "https://localhost:8080/"
        },
        "id": "H99zTxHku807",
        "outputId": "27accca8-52d7-40ac-cb65-5cd1e332910b"
      },
      "execution_count": 17,
      "outputs": [
        {
          "output_type": "stream",
          "name": "stdout",
          "text": [
            "Predicted values for 2022 citation [ 199.35944589  309.39907586  259.30617626  250.59139021  403.3289836\n",
            "  373.43275039  197.57125569  109.42085095   73.80449193  134.39691141\n",
            "  241.99810443  310.85024174  213.77440939  106.058343    870.10897814\n",
            "   91.78526729  199.13951719  165.31863621  820.68144726   72.16901135\n",
            "  236.8434599    74.15342145  304.7297415   133.83882901  210.69715157\n",
            "  171.70663797  203.91889104  109.25287674  234.70201522  233.27198644\n",
            "  335.65355604  183.23574309  268.43020346  442.01145378   96.1184015\n",
            "   42.71759602   41.26677711  335.01693794  227.92754377  364.74929054\n",
            "  410.12427991   92.3559956   184.85731651  234.47026783   60.479717\n",
            "  188.00066965  156.22869745  451.09114397  134.29574786  328.57231969\n",
            "  123.30443732   79.86704059  545.30878006  327.32556719   34.3586753\n",
            "    8.96840014  406.44031427  229.4594048    87.16411117  221.45831407\n",
            "  241.05963659  329.69887733  431.22142791  382.97732698  101.63524796\n",
            "  196.29819912   81.69445425   34.18154047   87.85574505  358.029108\n",
            "  718.08775528  208.51247206   89.41864881   26.63518464   68.66266249\n",
            "  953.65607824  270.43931098 1065.62026207  721.96490565   96.69729048\n",
            "   85.11525029  341.73877513  255.24700442  405.49258727  229.86166654\n",
            "   71.37385443  432.78838242 1753.35738855 1062.52456171  308.79938209\n",
            "   62.63645439  120.85980577  657.99026263 1579.12839324  661.41255488\n",
            "  897.79718349  184.38868347   94.80860918  277.94791164  202.87108568]\n"
          ]
        }
      ]
    },
    {
      "cell_type": "markdown",
      "source": [
        "#####Number of components = 2"
      ],
      "metadata": {
        "id": "LGm2yJqQyFG5"
      }
    },
    {
      "cell_type": "code",
      "source": [
        "pca = PCA(n_components=2)\n",
        "X_pca = pca.fit_transform(X)\n",
        "X_pca.shape"
      ],
      "metadata": {
        "colab": {
          "base_uri": "https://localhost:8080/"
        },
        "id": "1UU15OEeyCN7",
        "outputId": "401b7833-9f27-4743-e198-69e7cc363ace"
      },
      "execution_count": 18,
      "outputs": [
        {
          "output_type": "execute_result",
          "data": {
            "text/plain": [
              "(100, 2)"
            ]
          },
          "metadata": {},
          "execution_count": 18
        }
      ]
    },
    {
      "cell_type": "code",
      "source": [
        "pca.explained_variance_ratio_"
      ],
      "metadata": {
        "colab": {
          "base_uri": "https://localhost:8080/"
        },
        "id": "scc9g-s0yKnv",
        "outputId": "f2d18548-33f4-4b24-a025-295e2804ef46"
      },
      "execution_count": 19,
      "outputs": [
        {
          "output_type": "execute_result",
          "data": {
            "text/plain": [
              "array([0.92424391, 0.06634077])"
            ]
          },
          "metadata": {},
          "execution_count": 19
        }
      ]
    },
    {
      "cell_type": "code",
      "source": [
        "X_train_pca, X_test_pca, y_train_pca, y_test_pca = train_test_split(X_pca, y, test_size=0.2, random_state=42)"
      ],
      "metadata": {
        "id": "rVi5rfqzyKsf"
      },
      "execution_count": 20,
      "outputs": []
    },
    {
      "cell_type": "code",
      "source": [
        "# Initialize the linear regression model\n",
        "model_pca = LinearRegression()\n",
        "\n",
        "# Fit the model on the training data\n",
        "model_pca.fit(X_train_pca, y_train_pca)\n",
        "model_pca.score(X_test_pca,y_test_pca)"
      ],
      "metadata": {
        "colab": {
          "base_uri": "https://localhost:8080/"
        },
        "id": "wuTE4ulDyKvQ",
        "outputId": "88d3c8fc-9b63-4ab3-a7e4-dedf76af1d66"
      },
      "execution_count": 21,
      "outputs": [
        {
          "output_type": "execute_result",
          "data": {
            "text/plain": [
              "0.8440573287473303"
            ]
          },
          "metadata": {},
          "execution_count": 21
        }
      ]
    },
    {
      "cell_type": "code",
      "source": [
        "y_pred_pca = model_pca.predict(X_test_pca)"
      ],
      "metadata": {
        "id": "y9N256f8yKyO"
      },
      "execution_count": 22,
      "outputs": []
    },
    {
      "cell_type": "code",
      "source": [
        "mae = mean_absolute_error(y_test_pca, y_pred_pca)\n",
        "print(f\"Mean Absolute Error: {mae}\")"
      ],
      "metadata": {
        "colab": {
          "base_uri": "https://localhost:8080/"
        },
        "id": "aGzpo5QjyK1B",
        "outputId": "c4c4839c-a92c-4dda-da3c-3d72388aa544"
      },
      "execution_count": 23,
      "outputs": [
        {
          "output_type": "stream",
          "name": "stdout",
          "text": [
            "Mean Absolute Error: 55.317413492188294\n"
          ]
        }
      ]
    },
    {
      "cell_type": "code",
      "source": [
        "# Transform the entire dataset with PCA\n",
        "X_full_pca = pca.transform(X)\n",
        "\n",
        "# Predict 2022 citation numbers for the entire dataset\n",
        "full_predictions = model_pca.predict(X_full_pca)\n",
        "\n",
        "print(\"Predicted values for 2022 citation\",full_predictions)\n"
      ],
      "metadata": {
        "colab": {
          "base_uri": "https://localhost:8080/"
        },
        "id": "C8AnBJS3yK53",
        "outputId": "8f53d6a1-5fa5-45ce-b792-2e4efcb4f88a"
      },
      "execution_count": 24,
      "outputs": [
        {
          "output_type": "stream",
          "name": "stdout",
          "text": [
            "Predicted values for 2022 citation [ 293.10344774  408.96366787  220.39149459  259.85370774  400.63321468\n",
            "  403.88581881  171.62328629  152.06818969   99.30632444  134.96422325\n",
            "  217.86508287  265.1097435   249.27964741  137.53213279  805.81524244\n",
            "  119.61945324  230.85788154  142.68446344  652.34909324   87.33689297\n",
            "  272.58696234  100.06474811  421.21176389  160.16260774  165.63652127\n",
            "  146.80702219  210.54182451  130.01941534  259.60429689  182.84136575\n",
            "  378.92430534  177.63900657  274.32135103  453.03962649  160.93762319\n",
            "   35.4920236    26.01110968  383.46331636  180.8262157   305.44691375\n",
            "  388.04542814   72.93675829  187.99557738  279.19844234   78.68397436\n",
            "  200.56083848  177.89049454  494.10850876  112.89448002  382.12659875\n",
            "  152.69729497  129.10973275  572.4621364   322.40409453   30.54466739\n",
            "   20.57665837  377.98332924  231.06929479   91.69040428  217.31530031\n",
            "  304.07584742  291.02948711  344.2252588   355.9039333   107.69418149\n",
            "  203.84104991  100.89257948   25.89132332   60.25380646  373.5801112\n",
            "  690.25170763  234.11059971  113.05376952   19.25072931   53.3160768\n",
            "  756.78728901  348.69845434  856.08154436  666.36109849  104.99059807\n",
            "  117.90478032  392.99142585  262.72301513  450.68305808  180.22583609\n",
            "   24.19970404  490.56479371 1746.30319693 1114.57671292  270.55882143\n",
            "   83.89520799  128.56161782  640.36660424 1624.73872255  724.21177678\n",
            "  833.56324821  119.3808692    69.47740792  256.40343964  165.17176445]\n"
          ]
        }
      ]
    },
    {
      "cell_type": "markdown",
      "source": [
        "####Scatter Plot whose axes are the two most important principal components.\n"
      ],
      "metadata": {
        "id": "dmtx3A5svQ3M"
      }
    },
    {
      "cell_type": "code",
      "source": [
        "import pandas as pd\n",
        "from sklearn.decomposition import PCA\n",
        "import matplotlib.pyplot as plt\n",
        "\n",
        "# Load the dataset\n",
        "data = pd.read_csv('/content/81-90.csv')\n",
        "\n",
        "# Extract features (university rank and citation numbers from 2017 to 2022)\n",
        "X_citations = data[['univ_rank', 'cit_2017', 'cit_2018', 'cit_2019', 'cit_2020', 'cit_2021']]\n",
        "\n",
        "# Extract the target variable (i10-index)\n",
        "y_2022 = data['cit_2022']\n",
        "\n",
        "# Initialize PCA with the number of components you want to retain\n",
        "pca = PCA(n_components=2)  # You can adjust the number of components as needed\n",
        "\n",
        "# Fit and transform the citation data using PCA\n",
        "X_pca = pca.fit_transform(X_citations)\n",
        "\n",
        "# Combine PCA components with university rank\n",
        "X_combined = pd.concat([data['univ_rank'], pd.DataFrame(X_pca, columns=['PCA1', 'PCA2'])], axis=1)\n",
        "\n",
        "# Calculate the quartiles for the i10-index\n",
        "quartiles = y_2022.quantile([0, 0.25, 0.5, 0.75, 1.0])\n",
        "\n",
        "# Assign colors to data points based on quartiles\n",
        "colors = []\n",
        "for i10 in y_2022:\n",
        "    if i10 <= quartiles[0.25]:\n",
        "        colors.append('red')\n",
        "    elif quartiles[0.25] < i10 <= quartiles[0.5]:\n",
        "        colors.append('orange')\n",
        "    elif quartiles[0.5] < i10 <= quartiles[0.75]:\n",
        "        colors.append('green')\n",
        "    else:\n",
        "        colors.append('blue')\n",
        "\n",
        "# Create the scatter plot\n",
        "plt.figure(figsize=(10, 8))\n",
        "plt.scatter(X_combined['PCA1'], X_combined['PCA2'], c=colors, alpha=0.6)\n",
        "\n",
        "# Set plot labels and title\n",
        "plt.xlabel('Principal Component 1')\n",
        "plt.ylabel('Principal Component 2')\n",
        "plt.title('Scatter Plot of Data Points Based on cit_2022 Quartiles')\n",
        "\n",
        "# Show the legend\n",
        "red_patch = plt.Line2D([0], [0], marker='o', color='w', markersize=10, markerfacecolor='red', label='Q1 (Red)')\n",
        "orange_patch = plt.Line2D([0], [0], marker='o', color='w', markersize=10, markerfacecolor='orange', label='Q2 (Orange)')\n",
        "green_patch = plt.Line2D([0], [0], marker='o', color='w', markersize=10, markerfacecolor='green', label='Q3 (Green)')\n",
        "blue_patch = plt.Line2D([0], [0], marker='o', color='w', markersize=10, markerfacecolor='blue', label='Q4 (Blue)')\n",
        "plt.legend(handles=[red_patch, orange_patch, green_patch, blue_patch], loc='best')\n",
        "\n",
        "# Show the scatter plot\n",
        "plt.show()\n"
      ],
      "metadata": {
        "colab": {
          "base_uri": "https://localhost:8080/",
          "height": 718
        },
        "id": "DRiDGqhsvYBq",
        "outputId": "192595c9-475e-47ff-8fef-85ffd16f544f"
      },
      "execution_count": 31,
      "outputs": [
        {
          "output_type": "display_data",
          "data": {
            "text/plain": [
              "<Figure size 1000x800 with 1 Axes>"
            ],
            "image/png": "[encoded data removed]"
          },
          "metadata": {}
        }
      ]
    }
  ]
}