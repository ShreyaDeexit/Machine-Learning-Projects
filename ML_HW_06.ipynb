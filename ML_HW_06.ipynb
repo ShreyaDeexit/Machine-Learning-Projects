{
  "nbformat": 4,
  "nbformat_minor": 0,
  "metadata": {
    "colab": {
      "provenance": []
    },
    "kernelspec": {
      "name": "python3",
      "display_name": "Python 3"
    },
    "language_info": {
      "name": "python"
    }
  },
  "cells": [
    {
      "cell_type": "code",
      "execution_count": 58,
      "metadata": {
        "id": "e4vxqNqfbpA7"
      },
      "outputs": [],
      "source": [
        "import pandas as pd\n",
        "import numpy as np\n",
        "from sklearn.linear_model import LinearRegression\n",
        "from sklearn.metrics import mean_squared_error, mean_absolute_error\n",
        "import numpy as np\n",
        "from sklearn.model_selection import train_test_split\n",
        "from sklearn.linear_model import LogisticRegression\n",
        "from sklearn.metrics import classification_report, accuracy_score\n",
        "from sklearn.metrics import confusion_matrix\n",
        "import matplotlib.pyplot as plt\n",
        "import seaborn as sns"
      ]
    },
    {
      "cell_type": "code",
      "source": [
        "df = pd.read_csv('/content/81-90.csv')"
      ],
      "metadata": {
        "id": "c1-EcNkob5CJ"
      },
      "execution_count": 59,
      "outputs": []
    },
    {
      "cell_type": "markdown",
      "source": [
        "###Linear Regression"
      ],
      "metadata": {
        "id": "a3pE37dsgZ-L"
      }
    },
    {
      "cell_type": "code",
      "source": [
        "X = df[['cit_2017', 'cit_2018', 'cit_2019', 'cit_2020', 'cit_2021']]\n",
        "y = df['cit_2022']\n",
        "scalar = StandardScaler()\n",
        "X_scaled = scalar.fit_transform(X)\n",
        "\n",
        "# Split the data into training and testing sets\n",
        "X_train, X_test, y_train, y_test = train_test_split(X_scaled, y, test_size=0.2, random_state=42)"
      ],
      "metadata": {
        "id": "hqhkiDFocHKc"
      },
      "execution_count": 60,
      "outputs": []
    },
    {
      "cell_type": "code",
      "source": [
        "\n",
        "model = LinearRegression()\n",
        "\n",
        "# Fit the model to the data\n",
        "model.fit(X_train, y_train)\n",
        "\n",
        "# Make predictions for 2022 citations\n",
        "y_pred = model.predict(X_test)\n",
        "\n",
        "# Calculate the MSE\n",
        "mse = mean_squared_error(y_test, y_pred)\n",
        "mae = mean_absolute_error(y_test,y_pred)\n",
        "# Extract the coefficients and intercept of the fitted line\n",
        "coefficients = model.coef_\n",
        "intercept = model.intercept_\n",
        "\n",
        "print(\"Coefficients:\", coefficients)\n",
        "print(\"Intercept:\", intercept)\n",
        "print(\"Mean Squared Error:\", mse)\n",
        "print(\"Mean Absolute Error:\", mae)"
      ],
      "metadata": {
        "colab": {
          "base_uri": "https://localhost:8080/"
        },
        "id": "pKO_uDX6cLBL",
        "outputId": "d68ef5e9-169b-433a-b44d-4a0412ae85e7"
      },
      "execution_count": 61,
      "outputs": [
        {
          "output_type": "stream",
          "name": "stdout",
          "text": [
            "Coefficients: [-126.03346366  173.77886646  -94.75857196 -182.96963503  507.21998893]\n",
            "Intercept: 301.0765503273337\n",
            "Mean Squared Error: 6692.611870093283\n",
            "Mean Absolute Error: 59.44567028067778\n"
          ]
        }
      ]
    },
    {
      "cell_type": "code",
      "source": [
        "predicted_data = pd.DataFrame({'Actual': y_test, 'Predicted_cit_2022': y_pred})\n",
        "# Save the DataFrame to a CSV file\n",
        "predicted_data.to_csv('predicted_cit_2022_Linear_Regression.csv', index=False)"
      ],
      "metadata": {
        "id": "9IWoj75Ydydy"
      },
      "execution_count": 62,
      "outputs": []
    },
    {
      "cell_type": "markdown",
      "source": [
        "###Logistic Regression"
      ],
      "metadata": {
        "id": "UDtT6jq_e_DK"
      }
    },
    {
      "cell_type": "code",
      "source": [
        "from sklearn.preprocessing import StandardScaler\n",
        "df['citation_ratio'] = round(df['cit_2022'] / df['cit_2021'], 2)\n",
        "\n",
        "# Define the categories based on the specified ranges\n",
        "# 1. Low (<1.05)\n",
        "# 2. Medium (1.06-1.15)\n",
        "# 3. High (>1.15)\n",
        "def classify_category(ratio):\n",
        "    if ratio < 1.05:\n",
        "        return 'Low'\n",
        "    elif 1.05 <= ratio <= 1.15:\n",
        "        return 'Medium'\n",
        "    else:\n",
        "        return 'High'\n",
        "\n",
        "# Apply the category classification function to the dataset\n",
        "df['category'] = df['citation_ratio'].apply(classify_category)\n",
        "\n",
        "# Split the data into features and labels\n",
        "X = df[['cit_2017', 'cit_2018', 'cit_2019', 'cit_2020', 'cit_2021']]\n",
        "y = df['category']\n",
        "\n",
        "scalar = StandardScaler()\n",
        "X_scaled = scalar.fit_transform(X)\n",
        "\n",
        "# Split the data into training and testing sets\n",
        "X_train, X_test, y_train, y_test = train_test_split(X_scaled, y, test_size=0.2, random_state=42)\n",
        "\n",
        "# Create a logistic regression model\n",
        "model = LogisticRegression(max_iter=1000)\n",
        "\n",
        "# Fit the model to the training data\n",
        "model.fit(X_train, y_train)\n",
        "\n",
        "# Make predictions on the testing data\n",
        "y_pred = model.predict(X_test)\n",
        "predicted_data = pd.DataFrame({'Actual': y_test, 'Predicted_cit_2022': y_pred})\n",
        "# Save the DataFrame to a CSV file\n",
        "predicted_data.to_csv('predicted_cit_2022_Logistic_Regression.csv', index=False)\n",
        "\n",
        "# Evaluate the model's performance\n",
        "classification_rep = classification_report(y_test, y_pred)\n",
        "print(classification_rep)"
      ],
      "metadata": {
        "colab": {
          "base_uri": "https://localhost:8080/"
        },
        "id": "WgrnK-KDfBux",
        "outputId": "20bbfbb2-7abf-44d8-bb83-986f525038f2"
      },
      "execution_count": 63,
      "outputs": [
        {
          "output_type": "stream",
          "name": "stdout",
          "text": [
            "              precision    recall  f1-score   support\n",
            "\n",
            "        High       0.62      0.71      0.67         7\n",
            "         Low       0.75      0.75      0.75        12\n",
            "      Medium       0.00      0.00      0.00         1\n",
            "\n",
            "    accuracy                           0.70        20\n",
            "   macro avg       0.46      0.49      0.47        20\n",
            "weighted avg       0.67      0.70      0.68        20\n",
            "\n"
          ]
        },
        {
          "output_type": "stream",
          "name": "stderr",
          "text": [
            "/usr/local/lib/python3.10/dist-packages/sklearn/metrics/_classification.py:1344: UndefinedMetricWarning: Precision and F-score are ill-defined and being set to 0.0 in labels with no predicted samples. Use `zero_division` parameter to control this behavior.\n",
            "  _warn_prf(average, modifier, msg_start, len(result))\n",
            "/usr/local/lib/python3.10/dist-packages/sklearn/metrics/_classification.py:1344: UndefinedMetricWarning: Precision and F-score are ill-defined and being set to 0.0 in labels with no predicted samples. Use `zero_division` parameter to control this behavior.\n",
            "  _warn_prf(average, modifier, msg_start, len(result))\n",
            "/usr/local/lib/python3.10/dist-packages/sklearn/metrics/_classification.py:1344: UndefinedMetricWarning: Precision and F-score are ill-defined and being set to 0.0 in labels with no predicted samples. Use `zero_division` parameter to control this behavior.\n",
            "  _warn_prf(average, modifier, msg_start, len(result))\n"
          ]
        }
      ]
    },
    {
      "cell_type": "code",
      "source": [
        "accuracy = accuracy_score(y_test,y_pred)\n",
        "print(\"Accuracy for logistic regression\",accuracy)"
      ],
      "metadata": {
        "colab": {
          "base_uri": "https://localhost:8080/"
        },
        "id": "DWBghuIeRXbS",
        "outputId": "3fbc74a8-70f2-4d30-88ba-8eb9bf1f84f7"
      },
      "execution_count": 64,
      "outputs": [
        {
          "output_type": "stream",
          "name": "stdout",
          "text": [
            "Accuracy for logistic regression 0.7\n"
          ]
        }
      ]
    },
    {
      "cell_type": "code",
      "source": [
        "cm = confusion_matrix(y_test, y_pred)\n",
        "\n",
        "# Create a heatmap for the confusion matrix\n",
        "categories = ['Low', 'Medium', 'High']\n",
        "plt.figure(figsize=(8, 6))\n",
        "sns.heatmap(cm, annot=True, fmt='d', cmap='Blues', xticklabels=categories, yticklabels=categories)\n",
        "plt.xlabel('Predicted')\n",
        "plt.ylabel('Actual')\n",
        "plt.title('Confusion Matrix')\n",
        "plt.show()"
      ],
      "metadata": {
        "colab": {
          "base_uri": "https://localhost:8080/",
          "height": 564
        },
        "id": "DODeDBIvfQaR",
        "outputId": "e096cc25-8ae5-4372-bc5c-da19d4686a71"
      },
      "execution_count": 65,
      "outputs": [
        {
          "output_type": "display_data",
          "data": {
            "text/plain": [
              "<Figure size 800x600 with 2 Axes>"
            ],
            "image/png": "[encoded data removed]"
          },
          "metadata": {}
        }
      ]
    }
  ]
}