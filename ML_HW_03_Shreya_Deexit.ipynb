{
  "nbformat": 4,
  "nbformat_minor": 0,
  "metadata": {
    "colab": {
      "provenance": []
    },
    "kernelspec": {
      "name": "python3",
      "display_name": "Python 3"
    },
    "language_info": {
      "name": "python"
    }
  },
  "cells": [
    {
      "cell_type": "code",
      "execution_count": 31,
      "metadata": {
        "id": "JdtUkWig4w5P"
      },
      "outputs": [],
      "source": [
        "import pandas as pd\n",
        "from sklearn.model_selection import train_test_split\n",
        "from sklearn.cluster import KMeans\n",
        "import matplotlib.pyplot as plt\n",
        "from sklearn.preprocessing import StandardScaler\n",
        "from scipy.spatial import distance\n",
        "from sklearn.metrics.pairwise import euclidean_distances"
      ]
    },
    {
      "cell_type": "code",
      "source": [
        "df = pd.read_csv('/content/81-90.csv')\n"
      ],
      "metadata": {
        "id": "o6NIc2cV43rz"
      },
      "execution_count": 50,
      "outputs": []
    },
    {
      "cell_type": "code",
      "source": [
        "from sklearn.model_selection import train_test_split\n",
        "train_df, test_df = train_test_split(df, test_size=0.2, random_state=42)\n"
      ],
      "metadata": {
        "id": "Pt9DjksY467J"
      },
      "execution_count": 51,
      "outputs": []
    },
    {
      "cell_type": "code",
      "source": [
        "from sklearn.neighbors import NearestNeighbors\n",
        "X_train = train_df[['cit_2017', 'cit_2018', 'cit_2019', 'cit_2020', 'cit_2021']]\n",
        "nn = NearestNeighbors(metric='euclidean')\n",
        "nn.fit(X_train)\n"
      ],
      "metadata": {
        "colab": {
          "base_uri": "https://localhost:8080/",
          "height": 75
        },
        "id": "BGfE0nkt4_Bx",
        "outputId": "c9cac337-6b0b-4c1e-abe1-ffc781d4b587"
      },
      "execution_count": 52,
      "outputs": [
        {
          "output_type": "execute_result",
          "data": {
            "text/plain": [
              "NearestNeighbors(metric='euclidean')"
            ],
            "text/html": [
              "<style>#sk-container-id-3 {color: black;background-color: white;}#sk-container-id-3 pre{padding: 0;}#sk-container-id-3 div.sk-toggleable {background-color: white;}#sk-container-id-3 label.sk-toggleable__label {cursor: pointer;display: block;width: 100%;margin-bottom: 0;padding: 0.3em;box-sizing: border-box;text-align: center;}#sk-container-id-3 label.sk-toggleable__label-arrow:before {content: \"▸\";float: left;margin-right: 0.25em;color: #696969;}#sk-container-id-3 label.sk-toggleable__label-arrow:hover:before {color: black;}#sk-container-id-3 div.sk-estimator:hover label.sk-toggleable__label-arrow:before {color: black;}#sk-container-id-3 div.sk-toggleable__content {max-height: 0;max-width: 0;overflow: hidden;text-align: left;background-color: #f0f8ff;}#sk-container-id-3 div.sk-toggleable__content pre {margin: 0.2em;color: black;border-radius: 0.25em;background-color: #f0f8ff;}#sk-container-id-3 input.sk-toggleable__control:checked~div.sk-toggleable__content {max-height: 200px;max-width: 100%;overflow: auto;}#sk-container-id-3 input.sk-toggleable__control:checked~label.sk-toggleable__label-arrow:before {content: \"▾\";}#sk-container-id-3 div.sk-estimator input.sk-toggleable__control:checked~label.sk-toggleable__label {background-color: #d4ebff;}#sk-container-id-3 div.sk-label input.sk-toggleable__control:checked~label.sk-toggleable__label {background-color: #d4ebff;}#sk-container-id-3 input.sk-hidden--visually {border: 0;clip: rect(1px 1px 1px 1px);clip: rect(1px, 1px, 1px, 1px);height: 1px;margin: -1px;overflow: hidden;padding: 0;position: absolute;width: 1px;}#sk-container-id-3 div.sk-estimator {font-family: monospace;background-color: #f0f8ff;border: 1px dotted black;border-radius: 0.25em;box-sizing: border-box;margin-bottom: 0.5em;}#sk-container-id-3 div.sk-estimator:hover {background-color: #d4ebff;}#sk-container-id-3 div.sk-parallel-item::after {content: \"\";width: 100%;border-bottom: 1px solid gray;flex-grow: 1;}#sk-container-id-3 div.sk-label:hover label.sk-toggleable__label {background-color: #d4ebff;}#sk-container-id-3 div.sk-serial::before {content: \"\";position: absolute;border-left: 1px solid gray;box-sizing: border-box;top: 0;bottom: 0;left: 50%;z-index: 0;}#sk-container-id-3 div.sk-serial {display: flex;flex-direction: column;align-items: center;background-color: white;padding-right: 0.2em;padding-left: 0.2em;position: relative;}#sk-container-id-3 div.sk-item {position: relative;z-index: 1;}#sk-container-id-3 div.sk-parallel {display: flex;align-items: stretch;justify-content: center;background-color: white;position: relative;}#sk-container-id-3 div.sk-item::before, #sk-container-id-3 div.sk-parallel-item::before {content: \"\";position: absolute;border-left: 1px solid gray;box-sizing: border-box;top: 0;bottom: 0;left: 50%;z-index: -1;}#sk-container-id-3 div.sk-parallel-item {display: flex;flex-direction: column;z-index: 1;position: relative;background-color: white;}#sk-container-id-3 div.sk-parallel-item:first-child::after {align-self: flex-end;width: 50%;}#sk-container-id-3 div.sk-parallel-item:last-child::after {align-self: flex-start;width: 50%;}#sk-container-id-3 div.sk-parallel-item:only-child::after {width: 0;}#sk-container-id-3 div.sk-dashed-wrapped {border: 1px dashed gray;margin: 0 0.4em 0.5em 0.4em;box-sizing: border-box;padding-bottom: 0.4em;background-color: white;}#sk-container-id-3 div.sk-label label {font-family: monospace;font-weight: bold;display: inline-block;line-height: 1.2em;}#sk-container-id-3 div.sk-label-container {text-align: center;}#sk-container-id-3 div.sk-container {/* jupyter's `normalize.less` sets `[hidden] { display: none; }` but bootstrap.min.css set `[hidden] { display: none !important; }` so we also need the `!important` here to be able to override the default hidden behavior on the sphinx rendered scikit-learn.org. See: https://github.com/scikit-learn/scikit-learn/issues/21755 */display: inline-block !important;position: relative;}#sk-container-id-3 div.sk-text-repr-fallback {display: none;}</style><div id=\"sk-container-id-3\" class=\"sk-top-container\"><div class=\"sk-text-repr-fallback\"><pre>NearestNeighbors(metric=&#x27;euclidean&#x27;)</pre><b>In a Jupyter environment, please rerun this cell to show the HTML representation or trust the notebook. <br />On GitHub, the HTML representation is unable to render, please try loading this page with nbviewer.org.</b></div><div class=\"sk-container\" hidden><div class=\"sk-item\"><div class=\"sk-estimator sk-toggleable\"><input class=\"sk-toggleable__control sk-hidden--visually\" id=\"sk-estimator-id-3\" type=\"checkbox\" checked><label for=\"sk-estimator-id-3\" class=\"sk-toggleable__label sk-toggleable__label-arrow\">NearestNeighbors</label><div class=\"sk-toggleable__content\"><pre>NearestNeighbors(metric=&#x27;euclidean&#x27;)</pre></div></div></div></div></div>"
            ]
          },
          "metadata": {},
          "execution_count": 52
        }
      ]
    },
    {
      "cell_type": "markdown",
      "source": [
        "###Elbow Method to determine optimal value of k"
      ],
      "metadata": {
        "id": "Eyv_gq-vzhm4"
      }
    },
    {
      "cell_type": "code",
      "source": [
        "import matplotlib.pyplot as plt\n",
        "\n",
        "inertia = []\n",
        "range_values = range(1, 11)\n",
        "\n",
        "wcss = []\n",
        "for i in range(1, 11):\n",
        "    kmeans = KMeans(n_clusters=i, random_state=40)\n",
        "    kmeans.fit(X_train)\n",
        "    wcss.append(kmeans.inertia_)\n",
        "\n",
        "\n",
        "plt.plot(range(1, 11), wcss)\n",
        "plt.title('Elbow Method')\n",
        "plt.xlabel('Number of Clusters')\n",
        "plt.ylabel('WCSS (Within-Cluster Sum of Squares)')\n",
        "\n",
        "plt.show()"
      ],
      "metadata": {
        "colab": {
          "base_uri": "https://localhost:8080/",
          "height": 849
        },
        "id": "yC7Tb7gP5Hhd",
        "outputId": "9894518c-8487-4b41-d97d-b028e4a1b812"
      },
      "execution_count": 53,
      "outputs": [
        {
          "output_type": "stream",
          "name": "stderr",
          "text": [
            "/usr/local/lib/python3.10/dist-packages/sklearn/cluster/_kmeans.py:870: FutureWarning: The default value of `n_init` will change from 10 to 'auto' in 1.4. Set the value of `n_init` explicitly to suppress the warning\n",
            "  warnings.warn(\n",
            "/usr/local/lib/python3.10/dist-packages/sklearn/cluster/_kmeans.py:870: FutureWarning: The default value of `n_init` will change from 10 to 'auto' in 1.4. Set the value of `n_init` explicitly to suppress the warning\n",
            "  warnings.warn(\n",
            "/usr/local/lib/python3.10/dist-packages/sklearn/cluster/_kmeans.py:870: FutureWarning: The default value of `n_init` will change from 10 to 'auto' in 1.4. Set the value of `n_init` explicitly to suppress the warning\n",
            "  warnings.warn(\n",
            "/usr/local/lib/python3.10/dist-packages/sklearn/cluster/_kmeans.py:870: FutureWarning: The default value of `n_init` will change from 10 to 'auto' in 1.4. Set the value of `n_init` explicitly to suppress the warning\n",
            "  warnings.warn(\n",
            "/usr/local/lib/python3.10/dist-packages/sklearn/cluster/_kmeans.py:870: FutureWarning: The default value of `n_init` will change from 10 to 'auto' in 1.4. Set the value of `n_init` explicitly to suppress the warning\n",
            "  warnings.warn(\n",
            "/usr/local/lib/python3.10/dist-packages/sklearn/cluster/_kmeans.py:870: FutureWarning: The default value of `n_init` will change from 10 to 'auto' in 1.4. Set the value of `n_init` explicitly to suppress the warning\n",
            "  warnings.warn(\n",
            "/usr/local/lib/python3.10/dist-packages/sklearn/cluster/_kmeans.py:870: FutureWarning: The default value of `n_init` will change from 10 to 'auto' in 1.4. Set the value of `n_init` explicitly to suppress the warning\n",
            "  warnings.warn(\n",
            "/usr/local/lib/python3.10/dist-packages/sklearn/cluster/_kmeans.py:870: FutureWarning: The default value of `n_init` will change from 10 to 'auto' in 1.4. Set the value of `n_init` explicitly to suppress the warning\n",
            "  warnings.warn(\n",
            "/usr/local/lib/python3.10/dist-packages/sklearn/cluster/_kmeans.py:870: FutureWarning: The default value of `n_init` will change from 10 to 'auto' in 1.4. Set the value of `n_init` explicitly to suppress the warning\n",
            "  warnings.warn(\n",
            "/usr/local/lib/python3.10/dist-packages/sklearn/cluster/_kmeans.py:870: FutureWarning: The default value of `n_init` will change from 10 to 'auto' in 1.4. Set the value of `n_init` explicitly to suppress the warning\n",
            "  warnings.warn(\n"
          ]
        },
        {
          "output_type": "display_data",
          "data": {
            "text/plain": [
              "<Figure size 640x480 with 1 Axes>"
            ],
            "image/png": "[encoded data removed]"
          },
          "metadata": {}
        }
      ]
    },
    {
      "cell_type": "code",
      "source": [
        "from sklearn.cluster import KMeans\n",
        "kmeans = KMeans(n_clusters=4, random_state=42)\n",
        "train_df['cluster'] = kmeans.fit_predict(X_train)"
      ],
      "metadata": {
        "colab": {
          "base_uri": "https://localhost:8080/"
        },
        "id": "U3iTuj_1yA19",
        "outputId": "5d0d8700-f5c0-44de-ee42-db68a27db0bc"
      },
      "execution_count": 54,
      "outputs": [
        {
          "output_type": "stream",
          "name": "stderr",
          "text": [
            "/usr/local/lib/python3.10/dist-packages/sklearn/cluster/_kmeans.py:870: FutureWarning: The default value of `n_init` will change from 10 to 'auto' in 1.4. Set the value of `n_init` explicitly to suppress the warning\n",
            "  warnings.warn(\n"
          ]
        }
      ]
    },
    {
      "cell_type": "markdown",
      "source": [
        "###Average difference magnitude to evaluate: same as the 2022 citation number of the nearest neighbor from the training set"
      ],
      "metadata": {
        "id": "mQ5jVYPszzlz"
      }
    },
    {
      "cell_type": "code",
      "source": [
        "from sklearn.metrics import mean_absolute_error\n",
        "import numpy as np\n",
        "\n",
        "\n",
        "X_test = test_df[['cit_2017', 'cit_2018', 'cit_2019', 'cit_2020', 'cit_2021']]\n",
        "test_df['cluster'] = kmeans.predict(X_test)\n",
        "\n",
        "\n",
        "nearest_neighbors = nn.kneighbors(X_test, n_neighbors=1, return_distance=False)\n",
        "predictions_1 = train_df.iloc[nearest_neighbors.squeeze()]['cit_2022'].values\n",
        "true_values = test_df['cit_2022'].values\n",
        "mae_1 = mean_absolute_error(true_values, predictions_1)\n"
      ],
      "metadata": {
        "id": "RttZb00p5VeZ"
      },
      "execution_count": 55,
      "outputs": []
    },
    {
      "cell_type": "markdown",
      "source": [
        "### Average difference magnitude to evaluate: same as the point nearest the cluster centroid;\n"
      ],
      "metadata": {
        "id": "1AOzyjBL09-K"
      }
    },
    {
      "cell_type": "code",
      "source": [
        "columns = ['cit_2017', 'cit_2018', 'cit_2019', 'cit_2020', 'cit_2021']\n",
        "X_test = test_df[columns]\n",
        "test_df['predicted_cluster'] = kmeans.predict(X_test)\n",
        "\n",
        "# Prediction function\n",
        "def nearest_point_to_centroid_in_training(test_row, centroids, train_data, columns):\n",
        "    cluster = test_row['predicted_cluster']\n",
        "    cluster_data = train_data[train_data['cluster'] == cluster]\n",
        "\n",
        "    # Check if there's data in this cluster\n",
        "    if cluster_data.empty:\n",
        "        print(f\"Warning: No training data for cluster {cluster}.\")\n",
        "        return None\n",
        "\n",
        "    distances_to_centroid = cluster_data.apply(lambda row: euclidean_distances(row[columns].values.reshape(1, -1), centroids[cluster].reshape(1, -1))[0][0], axis=1)\n",
        "\n",
        "    return cluster_data.loc[distances_to_centroid.idxmin()]['cit_2022']\n",
        "\n",
        "# Apply prediction function to each test row\n",
        "test_df['pred_2022_centroid'] = test_df.apply(lambda row: nearest_point_to_centroid_in_training(row, kmeans.cluster_centers_, train_df, columns), axis=1)\n",
        "\n",
        "test_df['diff'] = abs(test_df['cit_2022'] - test_df['pred_2022_centroid'])\n",
        "mae_2 = test_df['diff'].mean()\n"
      ],
      "metadata": {
        "id": "tfyVVCLgsWwU"
      },
      "execution_count": 60,
      "outputs": []
    },
    {
      "cell_type": "markdown",
      "source": [
        "### Average difference magnitude to evaluate: average of all others from the training set in the same cluster."
      ],
      "metadata": {
        "id": "-X1vrHT01Kzf"
      }
    },
    {
      "cell_type": "code",
      "source": [
        "columns = ['cit_2017', 'cit_2018', 'cit_2019', 'cit_2020', 'cit_2021']\n",
        "X_train = train_df[columns]\n",
        "\n",
        "kmeans = KMeans(n_clusters=4)  # we choose optimal k value here\n",
        "train_df['cluster'] = kmeans.fit_predict(X_train)\n",
        "\n",
        "X_test = test_df[columns]\n",
        "test_df['predicted_cluster'] = kmeans.predict(X_test)\n",
        "\n",
        "# Prediction function\n",
        "def average_cit_2022_from_cluster(test_row, train_data):\n",
        "    cluster = test_row['predicted_cluster']\n",
        "    cluster_data = train_data[train_data['cluster'] == cluster]\n",
        "\n",
        "    # Compute the average cit_2022 for the cluster\n",
        "    return cluster_data['cit_2022'].mean()\n",
        "\n",
        "# Apply prediction function to each test row\n",
        "test_df['pred_2022_average_cluster'] = test_df.apply(lambda row: average_cit_2022_from_cluster(row, train_df), axis=1)\n",
        "\n",
        "test_df['diff'] = abs(test_df['cit_2022'] - test_df['pred_2022_average_cluster'])\n",
        "mae_3 = test_df['diff'].mean()\n"
      ],
      "metadata": {
        "colab": {
          "base_uri": "https://localhost:8080/"
        },
        "id": "uBrJADUa9VNA",
        "outputId": "cdc88650-71c5-4763-8022-995bbf71f468"
      },
      "execution_count": 61,
      "outputs": [
        {
          "output_type": "stream",
          "name": "stderr",
          "text": [
            "/usr/local/lib/python3.10/dist-packages/sklearn/cluster/_kmeans.py:870: FutureWarning: The default value of `n_init` will change from 10 to 'auto' in 1.4. Set the value of `n_init` explicitly to suppress the warning\n",
            "  warnings.warn(\n"
          ]
        }
      ]
    },
    {
      "cell_type": "markdown",
      "source": [
        "###Results of Average Difference Magnitude for all three prediction"
      ],
      "metadata": {
        "id": "k3Of-Eze2X02"
      }
    },
    {
      "cell_type": "code",
      "source": [
        "print(\"Predicted Values for:\")\n",
        "print(\"Nearest Neigbor\")\n",
        "print(predictions_1)\n",
        "print(\"Cluster Centroid\")\n",
        "print(test_df['pred_2022_centroid'])\n",
        "print(\"Average of cluster\")\n",
        "print(test_df['pred_2022_average_cluster'])\n",
        "\n",
        "print(\"Actual Values\")\n",
        "print(test_df['cit_2022'])"
      ],
      "metadata": {
        "colab": {
          "base_uri": "https://localhost:8080/"
        },
        "id": "WLK7osHE5T-S",
        "outputId": "56d4e18d-9f26-4f1c-b7d2-05d960936c65"
      },
      "execution_count": 70,
      "outputs": [
        {
          "output_type": "stream",
          "name": "stdout",
          "text": [
            "Predicted Values for:\n",
            "Nearest Neigbor\n",
            "[ 319  296  663  203  152  325  436  152  194  325  335  366   23  589\n",
            "   73  733  495 1196  212  109]\n",
            "Cluster Centroid\n",
            "83     315\n",
            "53     315\n",
            "70     315\n",
            "45     133\n",
            "44     133\n",
            "39     315\n",
            "22     315\n",
            "80     133\n",
            "10     133\n",
            "0      315\n",
            "18     315\n",
            "30     315\n",
            "73     133\n",
            "33     315\n",
            "90     133\n",
            "4     1025\n",
            "76     133\n",
            "77     315\n",
            "12     133\n",
            "31     133\n",
            "Name: pred_2022_centroid, dtype: int64\n",
            "Average of cluster\n",
            "83     391.826087\n",
            "53     391.826087\n",
            "70     391.826087\n",
            "45     146.647059\n",
            "44     146.647059\n",
            "39     391.826087\n",
            "22     391.826087\n",
            "80     146.647059\n",
            "10     146.647059\n",
            "0      391.826087\n",
            "18     391.826087\n",
            "30     391.826087\n",
            "73     146.647059\n",
            "33     391.826087\n",
            "90     146.647059\n",
            "4     1133.250000\n",
            "76     146.647059\n",
            "77     391.826087\n",
            "12     146.647059\n",
            "31     146.647059\n",
            "Name: pred_2022_average_cluster, dtype: float64\n",
            "Actual Values\n",
            "83     339\n",
            "53     360\n",
            "70     622\n",
            "45     215\n",
            "44      83\n",
            "39     344\n",
            "22     411\n",
            "80     101\n",
            "10     220\n",
            "0      298\n",
            "18     648\n",
            "30     312\n",
            "73       5\n",
            "33     356\n",
            "90      48\n",
            "4      446\n",
            "76     294\n",
            "77    1295\n",
            "12     242\n",
            "31     145\n",
            "Name: cit_2022, dtype: int64\n"
          ]
        }
      ]
    },
    {
      "cell_type": "code",
      "source": [
        "print(f\"Average Difference Magnitude for Prediction for nearest neighbor from the training set: {mae_1}\")\n",
        "print(f\"Average Difference Magnitude for Prediction using point near centroid: {mae_2}\")\n",
        "print(f\"Average Difference Magnitude for Prediction using average of training set in same cluster: {mae_3}\")"
      ],
      "metadata": {
        "colab": {
          "base_uri": "https://localhost:8080/"
        },
        "id": "X-AnHYNFyiow",
        "outputId": "b00d4675-79fb-4478-be51-23e8c5e35df6"
      },
      "execution_count": 62,
      "outputs": [
        {
          "output_type": "stream",
          "name": "stdout",
          "text": [
            "Average Difference Magnitude for Prediction for nearest neighbor from the training set: 82.5\n",
            "Average Difference Magnitude for Prediction using point near centroid: 160.0\n",
            "Average Difference Magnitude for Prediction using average of training set in same cluster: 158.67746163682864\n"
          ]
        }
      ]
    }
  ]
}